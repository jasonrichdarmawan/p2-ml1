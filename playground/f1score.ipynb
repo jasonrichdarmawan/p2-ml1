{
 "cells": [
  {
   "cell_type": "code",
   "execution_count": 30,
   "metadata": {},
   "outputs": [],
   "source": [
    "import tensorflow_addons as tfa\n",
    "import numpy as np"
   ]
  },
  {
   "cell_type": "markdown",
   "metadata": {},
   "source": [
    "Threshold\n",
    "\n",
    "Class 0 <= Threshold\n",
    "Class 1 > Threshold"
   ]
  },
  {
   "cell_type": "code",
   "execution_count": 43,
   "metadata": {},
   "outputs": [
    {
     "data": {
      "text/plain": [
       "array([1.], dtype=float32)"
      ]
     },
     "execution_count": 43,
     "metadata": {},
     "output_type": "execute_result"
    }
   ],
   "source": [
    "metric = tfa.metrics.F1Score(num_classes=1, threshold=0.5)\n",
    "y_true = np.array([[0],\n",
    "                   [0],\n",
    "                   [1]], np.int32)\n",
    "y_pred = np.array([[0.5],\n",
    "                   [0.5],\n",
    "                   [0.51]], np.float32)\n",
    "metric.update_state(y_true, y_pred)\n",
    "result = metric.result()\n",
    "result.numpy()"
   ]
  },
  {
   "cell_type": "code",
   "execution_count": 81,
   "metadata": {},
   "outputs": [
    {
     "data": {
      "text/plain": [
       "1.0"
      ]
     },
     "execution_count": 81,
     "metadata": {},
     "output_type": "execute_result"
    }
   ],
   "source": [
    "metric = tfa.metrics.F1Score(\n",
    "    num_classes=1, threshold=0.5,\n",
    "    average='macro'\n",
    ")\n",
    "\n",
    "y_true = np.array([[0],\n",
    "                   [0],\n",
    "                   [0],\n",
    "                   [0],\n",
    "                   [0],\n",
    "                   [0],\n",
    "                   [0],\n",
    "                   [0],\n",
    "                   [1],\n",
    "                   [1]], np.int32)\n",
    "y_pred = np.array([[0.5],\n",
    "                   [0.5],\n",
    "                   [0.5],\n",
    "                   [0.5],\n",
    "                   [0.5],\n",
    "                   [0.5],\n",
    "                   [0.5],\n",
    "                   [0.5],\n",
    "                   [0.51],\n",
    "                   [0.51]], np.float32)\n",
    "metric.update_state(y_true, y_pred)\n",
    "result = metric.result()\n",
    "result.numpy()"
   ]
  }
 ],
 "metadata": {
  "kernelspec": {
   "display_name": "Python 3.10.8 64-bit",
   "language": "python",
   "name": "python3"
  },
  "language_info": {
   "codemirror_mode": {
    "name": "ipython",
    "version": 3
   },
   "file_extension": ".py",
   "mimetype": "text/x-python",
   "name": "python",
   "nbconvert_exporter": "python",
   "pygments_lexer": "ipython3",
   "version": "3.10.8"
  },
  "orig_nbformat": 4,
  "vscode": {
   "interpreter": {
    "hash": "aee8b7b246df8f9039afb4144a1f6fd8d2ca17a180786b69acc140d282b71a49"
   }
  }
 },
 "nbformat": 4,
 "nbformat_minor": 2
}
