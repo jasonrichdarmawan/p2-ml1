{
 "cells": [
  {
   "cell_type": "code",
   "execution_count": 3,
   "metadata": {},
   "outputs": [],
   "source": [
    "import sklearn\n",
    "import tensorflow\n",
    "import tensorflow_addons\n",
    "import flask"
   ]
  },
  {
   "cell_type": "code",
   "execution_count": 8,
   "metadata": {},
   "outputs": [
    {
     "name": "stdout",
     "output_type": "stream",
     "text": [
      "sklearn 1.1.3 tensorflow-cpu 2.10.0 tensorflow-addons 0.18.0 flask 2.2.2\n"
     ]
    }
   ],
   "source": [
    "print(\n",
    "    \"sklearn\", sklearn.__version__, \n",
    "    \"tensorflow-cpu\", tensorflow.__version__, \n",
    "    \"tensorflow-addons\", tensorflow_addons.__version__, \n",
    "    \"flask\", flask.__version__\n",
    ")"
   ]
  }
 ],
 "metadata": {
  "kernelspec": {
   "display_name": "Python 3.10.8 64-bit",
   "language": "python",
   "name": "python3"
  },
  "language_info": {
   "codemirror_mode": {
    "name": "ipython",
    "version": 3
   },
   "file_extension": ".py",
   "mimetype": "text/x-python",
   "name": "python",
   "nbconvert_exporter": "python",
   "pygments_lexer": "ipython3",
   "version": "3.10.8"
  },
  "orig_nbformat": 4,
  "vscode": {
   "interpreter": {
    "hash": "aee8b7b246df8f9039afb4144a1f6fd8d2ca17a180786b69acc140d282b71a49"
   }
  }
 },
 "nbformat": 4,
 "nbformat_minor": 2
}
